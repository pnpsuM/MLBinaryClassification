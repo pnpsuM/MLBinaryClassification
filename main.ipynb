{
 "cells": [
  {
   "cell_type": "code",
   "execution_count": null,
   "metadata": {},
   "outputs": [],
   "source": [
    "from model.model import *\n",
    "from process_func import *\n",
    "DATA_DIR = f'datasets/'\n",
    "map = {'Mlle': 'Miss', 'Ms': 'Miss', 'Mme': 'Mrs', 'Major': 'Other', \n",
    "       'Col': 'Other', 'Dr' : 'Other', 'Rev' : 'Other', 'Capt': 'Other', \n",
    "       'Jonkheer': 'Royal', 'Sir': 'Royal', 'Lady': 'Royal', \n",
    "       'Don': 'Royal', 'Countess': 'Royal', 'Dona': 'Royal'}\n",
    "titles = ['Miss', 'Mr', 'Mrs', 'Royal', 'Other', 'Master']"
   ]
  },
  {
   "cell_type": "code",
   "execution_count": null,
   "metadata": {},
   "outputs": [],
   "source": [
    "data = Titanic(DATA_DIR)\n",
    "data.Preprocess(map, titles)\n",
    "dataset = data.GetXandY()\n"
   ]
  },
  {
   "cell_type": "code",
   "execution_count": null,
   "metadata": {},
   "outputs": [],
   "source": []
  },
  {
   "cell_type": "code",
   "execution_count": null,
   "metadata": {},
   "outputs": [],
   "source": []
  },
  {
   "cell_type": "code",
   "execution_count": null,
   "metadata": {},
   "outputs": [],
   "source": [
    "# Family size from Family Name\n",
    "# apply scaler on Age, Fare?\n",
    "# Title (Mr. Miss. ) - Married?\n",
    "# Social class from Ticket class and Fare"
   ]
  }
 ],
 "metadata": {
  "kernelspec": {
   "display_name": "Python 3.10.8 64-bit",
   "language": "python",
   "name": "python3"
  },
  "language_info": {
   "codemirror_mode": {
    "name": "ipython",
    "version": 3
   },
   "file_extension": ".py",
   "mimetype": "text/x-python",
   "name": "python",
   "nbconvert_exporter": "python",
   "pygments_lexer": "ipython3",
   "version": "3.10.8"
  },
  "orig_nbformat": 4,
  "vscode": {
   "interpreter": {
    "hash": "b776e8a1ce9412d9556c02947d53a9e8ae7bbb4e7b1b579f7ffbe853627ce066"
   }
  }
 },
 "nbformat": 4,
 "nbformat_minor": 2
}
