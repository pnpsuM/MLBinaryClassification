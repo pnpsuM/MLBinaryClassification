{
 "cells": [
  {
   "cell_type": "code",
   "execution_count": 10,
   "metadata": {},
   "outputs": [
    {
     "name": "stdout",
     "output_type": "stream",
     "text": [
      "The tensorboard extension is already loaded. To reload it, use:\n",
      "  %reload_ext tensorboard\n"
     ]
    }
   ],
   "source": [
    "REFERENCE = 'Reference'\n",
    "PROJECT = 'Project'\n",
    "\n",
    "%load_ext tensorboard\n",
    "\n",
    "from model.model import *\n",
    "from process_func import *\n",
    "import process_func_ref as ref\n",
    "import os\n",
    "DATA_DIR = f'datasets/'\n",
    "map = {'Mlle': 'Miss', 'Ms': 'Miss', 'Mme': 'Mrs', 'Major': 'Military', \n",
    "       'Col': 'Military', 'Dr' : 'Other', 'Rev' : 'Other', 'Capt': 'Military', \n",
    "       'Jonkheer': 'Royal', 'Sir': 'Royal', 'Lady': 'Royal', \n",
    "       'Don': 'Royal', 'Countess': 'Royal', 'Dona': 'Royal'}\n",
    "titles =['Miss', 'Mr', 'Mrs', 'Royal', 'Other', 'Master', 'Military']\n",
    "\n",
    "# Run for validation"
   ]
  },
  {
   "cell_type": "code",
   "execution_count": 11,
   "metadata": {},
   "outputs": [
    {
     "name": "stdout",
     "output_type": "stream",
     "text": [
      "Initializing...\n",
      "Data Loaded.\n",
      "Data Preprocessing...\n"
     ]
    },
    {
     "name": "stderr",
     "output_type": "stream",
     "text": [
      "c:\\Users\\deep\\Documents\\GitHub\\MLBinaryClassification\\process_func.py:97: RuntimeWarning: invalid value encountered in double_scalars\n",
      "  cnt /= len(group_df.loc[group_df['Type'] != 'test'])\n"
     ]
    },
    {
     "name": "stdout",
     "output_type": "stream",
     "text": [
      "Done Preprocessing.\n",
      "Returned Data Dictionary\n",
      "Initializing...\n",
      "Data Loaded.\n",
      "Data Preprocessing...\n",
      "Done Preprocessing.\n",
      "Returned Data Dictionary\n"
     ]
    }
   ],
   "source": [
    "prepath = 'preprocessed'\n",
    "try:\n",
    "    if not os.path.exists(prepath):\n",
    "        os.makedirs(prepath)\n",
    "except OSError:\n",
    "    print('Error Creating Directory...')\n",
    "    \n",
    "data = Titanic(DATA_DIR, show_head = False)\n",
    "data.Preprocess(map, titles, PROJECT)\n",
    "data._data.to_csv(prepath + f\"/encoded_{PROJECT}.csv\", index = False)\n",
    "dataset = data.GetXandY()\n",
    "\n",
    "data_ref = ref.Titanic(DATA_DIR, show_head = False)\n",
    "data_ref.Preprocess(map, titles, REFERENCE)\n",
    "data_ref._data.to_csv(prepath + f\"/encoded_{REFERENCE}.csv\", index = False)\n",
    "dataset_ref = data_ref.GetXandY()\n",
    "\n",
    "# Run for validation"
   ]
  },
  {
   "cell_type": "code",
   "execution_count": 12,
   "metadata": {},
   "outputs": [
    {
     "name": "stdout",
     "output_type": "stream",
     "text": [
      "Model: \"ReferenceModel\"\n",
      "_________________________________________________________________\n",
      " Layer (type)                Output Shape              Param #   \n",
      "=================================================================\n",
      " Input (InputLayer)          [(None, 19)]              0         \n",
      "                                                                 \n",
      " Dense0 (Dense)              (None, 16)                320       \n",
      "                                                                 \n",
      " Dense1 (Dense)              (None, 8)                 136       \n",
      "                                                                 \n",
      " Output (Dense)              (None, 1)                 9         \n",
      "                                                                 \n",
      "=================================================================\n",
      "Total params: 465\n",
      "Trainable params: 465\n",
      "Non-trainable params: 0\n",
      "_________________________________________________________________\n"
     ]
    }
   ],
   "source": [
    "ref_model = ReferenceModel(dataset['x_train'].shape)\n",
    "CP_dir_ref = SetCheckpoint(REFERENCE)\n",
    "TB_dir_ref = SetLog(REFERENCE)"
   ]
  },
  {
   "cell_type": "code",
   "execution_count": 13,
   "metadata": {},
   "outputs": [
    {
     "name": "stdout",
     "output_type": "stream",
     "text": [
      "Model: \"ProjectModel\"\n",
      "_________________________________________________________________\n",
      " Layer (type)                Output Shape              Param #   \n",
      "=================================================================\n",
      " Input (InputLayer)          [(None, 19)]              0         \n",
      "                                                                 \n",
      " Dense0 (Dense)              (None, 16)                320       \n",
      "                                                                 \n",
      " dropout_3 (Dropout)         (None, 16)                0         \n",
      "                                                                 \n",
      " batch_normalization_3 (Batc  (None, 16)               64        \n",
      " hNormalization)                                                 \n",
      "                                                                 \n",
      " Dense1 (Dense)              (None, 16)                272       \n",
      "                                                                 \n",
      " dropout_4 (Dropout)         (None, 16)                0         \n",
      "                                                                 \n",
      " batch_normalization_4 (Batc  (None, 16)               64        \n",
      " hNormalization)                                                 \n",
      "                                                                 \n",
      " Dense2 (Dense)              (None, 16)                272       \n",
      "                                                                 \n",
      " dropout_5 (Dropout)         (None, 16)                0         \n",
      "                                                                 \n",
      " batch_normalization_5 (Batc  (None, 16)               64        \n",
      " hNormalization)                                                 \n",
      "                                                                 \n",
      " Output (Dense)              (None, 1)                 17        \n",
      "                                                                 \n",
      "=================================================================\n",
      "Total params: 1,073\n",
      "Trainable params: 977\n",
      "Non-trainable params: 96\n",
      "_________________________________________________________________\n"
     ]
    }
   ],
   "source": [
    "proj_model = ProjectModel(dataset['x_train'].shape)\n",
    "CP_dir_proj = SetCheckpoint(PROJECT)\n",
    "TB_dir_proj = SetLog(PROJECT)\n",
    "# Run for validation"
   ]
  },
  {
   "cell_type": "code",
   "execution_count": 14,
   "metadata": {},
   "outputs": [],
   "source": [
    "BATCH_SIZE = 128\n",
    "EPOCHS = 400\n",
    "callbacks_ref = DefCallbacks(REFERENCE, CP = CP_dir_ref, TB = TB_dir_ref)\n",
    "history_ref = ref_model.fit(dataset['x_train'], dataset['y_train'], callbacks = callbacks_ref, \n",
    "          validation_split = 0.2, batch_size=BATCH_SIZE, epochs = EPOCHS, verbose = 0)"
   ]
  },
  {
   "cell_type": "code",
   "execution_count": 15,
   "metadata": {},
   "outputs": [],
   "source": [
    "BATCH_SIZE = 128\n",
    "EPOCHS = 400\n",
    "callbacks_proj = DefCallbacks(PROJECT, CP = CP_dir_proj, TB = TB_dir_proj)\n",
    "history_proj = proj_model.fit(dataset['x_train'], dataset['y_train'], callbacks = callbacks_proj, \n",
    "          validation_split = 0.2, batch_size=BATCH_SIZE, epochs = EPOCHS, verbose = 0)"
   ]
  },
  {
   "cell_type": "code",
   "execution_count": 16,
   "metadata": {},
   "outputs": [
    {
     "name": "stdout",
     "output_type": "stream",
     "text": [
      "3/3 [==============================] - 0s 2ms/step\n",
      "0    0.116092\n",
      "1    0.570573\n",
      "2    0.118166\n",
      "3    0.121795\n",
      "4    0.844192\n",
      "5    0.133729\n",
      "6    0.441133\n",
      "7    0.118760\n",
      "8    0.796953\n",
      "9    0.078735\n",
      "dtype: float32\n",
      "ReferenceModel_Accuracy :  79.90 %\n",
      "3/3 [==============================] - 0s 1ms/step\n",
      "0    0.130725\n",
      "1    0.651851\n",
      "2    0.104890\n",
      "3    0.137452\n",
      "4    0.858836\n",
      "5    0.152318\n",
      "6    0.537595\n",
      "7    0.180996\n",
      "8    0.758120\n",
      "9    0.037542\n",
      "dtype: float32\n",
      "ProjectModel_Accuracy :  79.43 %\n"
     ]
    }
   ],
   "source": [
    "submission = PerformanceCheck(ref_model, CP_dir_ref, dataset['x_test'], DATA_DIR)\n",
    "submission.to_csv(f\"submission/submission_{REFERENCE}.csv\", index = False)\n",
    "submission = PerformanceCheck(proj_model, CP_dir_proj, dataset['x_test'], DATA_DIR)\n",
    "submission.to_csv(f\"submission/submission_{PROJECT}.csv\", index = False)"
   ]
  }
 ],
 "metadata": {
  "kernelspec": {
   "display_name": "Python 3",
   "language": "python",
   "name": "python3"
  },
  "language_info": {
   "codemirror_mode": {
    "name": "ipython",
    "version": 3
   },
   "file_extension": ".py",
   "mimetype": "text/x-python",
   "name": "python",
   "nbconvert_exporter": "python",
   "pygments_lexer": "ipython3",
   "version": "3.10.8 (tags/v3.10.8:aaaf517, Oct 11 2022, 16:50:30) [MSC v.1933 64 bit (AMD64)]"
  },
  "orig_nbformat": 4,
  "vscode": {
   "interpreter": {
    "hash": "b776e8a1ce9412d9556c02947d53a9e8ae7bbb4e7b1b579f7ffbe853627ce066"
   }
  }
 },
 "nbformat": 4,
 "nbformat_minor": 2
}
