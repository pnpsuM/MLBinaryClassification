{
 "cells": [
  {
   "cell_type": "code",
   "execution_count": 35,
   "metadata": {},
   "outputs": [
    {
     "name": "stdout",
     "output_type": "stream",
     "text": [
      "The tensorboard extension is already loaded. To reload it, use:\n",
      "  %reload_ext tensorboard\n"
     ]
    }
   ],
   "source": [
    "VERSION = 'test'\n",
    "\n",
    "%load_ext tensorboard\n",
    "\n",
    "from model.model import *\n",
    "from process_func import *\n",
    "import tensorflow as tf\n",
    "DATA_DIR = f'datasets/'\n",
    "map = {'Mlle': 'Miss', 'Ms': 'Miss', 'Mme': 'Mrs', 'Major': 'Other', \n",
    "       'Col': 'Other', 'Dr' : 'Other', 'Rev' : 'Other', 'Capt': 'Other', \n",
    "       'Jonkheer': 'Royal', 'Sir': 'Royal', 'Lady': 'Royal', \n",
    "       'Don': 'Royal', 'Countess': 'Royal', 'Dona': 'Royal'}\n",
    "titles = ['Miss', 'Mr', 'Mrs', 'Royal', 'Other', 'Master']"
   ]
  },
  {
   "cell_type": "code",
   "execution_count": 36,
   "metadata": {},
   "outputs": [
    {
     "name": "stdout",
     "output_type": "stream",
     "text": [
      "Initializing...\n",
      "Data Loaded.\n",
      "Data Preprocessing...\n",
      "Done Preprocessing.\n",
      "Returned Data Dictionary\n"
     ]
    }
   ],
   "source": [
    "data = Titanic(DATA_DIR, show_head = False)\n",
    "data.Preprocess(map, titles)\n",
    "dataset = data.GetXandY()"
   ]
  },
  {
   "cell_type": "code",
   "execution_count": 37,
   "metadata": {},
   "outputs": [
    {
     "name": "stdout",
     "output_type": "stream",
     "text": [
      "(418, 15) (891, 15)\n",
      "[ 1.         0.         0.         0.         1.         0.\n",
      "  0.         1.         0.         0.         0.         0.\n",
      "  1.         0.        -0.5031762]\n",
      "0.0\n",
      "[ 1.         0.         0.         0.         1.         0.\n",
      "  0.         1.         0.         0.         0.         0.\n",
      "  1.         0.        -0.5031762]\n",
      "2.0\n"
     ]
    }
   ],
   "source": [
    "print(dataset['x_test'].shape, dataset['x_train'].shape)\n",
    "print(dataset['x_train'][0])\n",
    "print(dataset['y_train'][0])\n",
    "print(dataset['x_test'][0])\n",
    "print(dataset['y_test'][0])"
   ]
  },
  {
   "cell_type": "code",
   "execution_count": 38,
   "metadata": {},
   "outputs": [
    {
     "name": "stdout",
     "output_type": "stream",
     "text": [
      "Model: \"TitanicBC\"\n",
      "_________________________________________________________________\n",
      " Layer (type)                Output Shape              Param #   \n",
      "=================================================================\n",
      " Input (InputLayer)          [(None, 15)]              0         \n",
      "                                                                 \n",
      " Dense0 (Dense)              (None, 13)                208       \n",
      "                                                                 \n",
      " dropout_3 (Dropout)         (None, 13)                0         \n",
      "                                                                 \n",
      " Dense1 (Dense)              (None, 8)                 112       \n",
      "                                                                 \n",
      " Output (Dense)              (None, 1)                 9         \n",
      "                                                                 \n",
      "=================================================================\n",
      "Total params: 329\n",
      "Trainable params: 329\n",
      "Non-trainable params: 0\n",
      "_________________________________________________________________\n"
     ]
    }
   ],
   "source": [
    "model = BinaryClassification(dataset['x_train'].shape)"
   ]
  },
  {
   "cell_type": "code",
   "execution_count": 39,
   "metadata": {},
   "outputs": [
    {
     "name": "stdout",
     "output_type": "stream",
     "text": [
      "Epoch 1/100\n",
      "12/12 - 0s - loss: 0.7777 - binary_accuracy: 0.3652 - val_loss: 0.7696 - val_binary_accuracy: 0.2458 - 428ms/epoch - 36ms/step\n",
      "Epoch 2/100\n",
      "12/12 - 0s - loss: 0.7431 - binary_accuracy: 0.3708 - val_loss: 0.7191 - val_binary_accuracy: 0.5419 - 109ms/epoch - 9ms/step\n",
      "Epoch 3/100\n",
      "12/12 - 0s - loss: 0.6878 - binary_accuracy: 0.5562 - val_loss: 0.6684 - val_binary_accuracy: 0.5698 - 149ms/epoch - 12ms/step\n",
      "Epoch 4/100\n",
      "12/12 - 0s - loss: 0.6540 - binary_accuracy: 0.6180 - val_loss: 0.6191 - val_binary_accuracy: 0.6983 - 128ms/epoch - 11ms/step\n",
      "Epoch 5/100\n",
      "12/12 - 0s - loss: 0.6210 - binary_accuracy: 0.6840 - val_loss: 0.5764 - val_binary_accuracy: 0.7542 - 115ms/epoch - 10ms/step\n",
      "Epoch 6/100\n",
      "12/12 - 0s - loss: 0.6009 - binary_accuracy: 0.6966 - val_loss: 0.5447 - val_binary_accuracy: 0.8045 - 121ms/epoch - 10ms/step\n",
      "Epoch 7/100\n",
      "12/12 - 0s - loss: 0.5772 - binary_accuracy: 0.7416 - val_loss: 0.5169 - val_binary_accuracy: 0.8324 - 84ms/epoch - 7ms/step\n",
      "Epoch 8/100\n",
      "12/12 - 0s - loss: 0.5664 - binary_accuracy: 0.7472 - val_loss: 0.4967 - val_binary_accuracy: 0.8380 - 87ms/epoch - 7ms/step\n",
      "Epoch 9/100\n",
      "12/12 - 0s - loss: 0.5394 - binary_accuracy: 0.7669 - val_loss: 0.4787 - val_binary_accuracy: 0.8492 - 94ms/epoch - 8ms/step\n",
      "Epoch 10/100\n",
      "12/12 - 0s - loss: 0.5359 - binary_accuracy: 0.7640 - val_loss: 0.4665 - val_binary_accuracy: 0.8547 - 91ms/epoch - 8ms/step\n",
      "Epoch 11/100\n",
      "12/12 - 0s - loss: 0.5188 - binary_accuracy: 0.7781 - val_loss: 0.4536 - val_binary_accuracy: 0.8659 - 88ms/epoch - 7ms/step\n",
      "Epoch 12/100\n",
      "12/12 - 0s - loss: 0.5142 - binary_accuracy: 0.7921 - val_loss: 0.4401 - val_binary_accuracy: 0.8659 - 90ms/epoch - 7ms/step\n",
      "Epoch 13/100\n",
      "12/12 - 0s - loss: 0.4902 - binary_accuracy: 0.7935 - val_loss: 0.4284 - val_binary_accuracy: 0.8771 - 100ms/epoch - 8ms/step\n",
      "Epoch 14/100\n",
      "12/12 - 0s - loss: 0.4872 - binary_accuracy: 0.7978 - val_loss: 0.4195 - val_binary_accuracy: 0.8715 - 94ms/epoch - 8ms/step\n",
      "Epoch 15/100\n",
      "12/12 - 0s - loss: 0.4773 - binary_accuracy: 0.8062 - val_loss: 0.4087 - val_binary_accuracy: 0.8659 - 82ms/epoch - 7ms/step\n",
      "Epoch 16/100\n",
      "12/12 - 0s - loss: 0.4783 - binary_accuracy: 0.8020 - val_loss: 0.4009 - val_binary_accuracy: 0.8659 - 91ms/epoch - 8ms/step\n",
      "Epoch 17/100\n",
      "12/12 - 0s - loss: 0.4767 - binary_accuracy: 0.8062 - val_loss: 0.3946 - val_binary_accuracy: 0.8603 - 87ms/epoch - 7ms/step\n",
      "Epoch 18/100\n",
      "12/12 - 0s - loss: 0.4641 - binary_accuracy: 0.8118 - val_loss: 0.3920 - val_binary_accuracy: 0.8547 - 88ms/epoch - 7ms/step\n",
      "Epoch 19/100\n",
      "12/12 - 0s - loss: 0.4575 - binary_accuracy: 0.8118 - val_loss: 0.3841 - val_binary_accuracy: 0.8492 - 92ms/epoch - 8ms/step\n",
      "Epoch 20/100\n",
      "12/12 - 0s - loss: 0.4629 - binary_accuracy: 0.8034 - val_loss: 0.3819 - val_binary_accuracy: 0.8492 - 79ms/epoch - 7ms/step\n",
      "Epoch 21/100\n",
      "12/12 - 0s - loss: 0.4641 - binary_accuracy: 0.8062 - val_loss: 0.3779 - val_binary_accuracy: 0.8492 - 98ms/epoch - 8ms/step\n",
      "Epoch 22/100\n",
      "12/12 - 0s - loss: 0.4514 - binary_accuracy: 0.8132 - val_loss: 0.3732 - val_binary_accuracy: 0.8492 - 92ms/epoch - 8ms/step\n",
      "Epoch 23/100\n",
      "12/12 - 0s - loss: 0.4651 - binary_accuracy: 0.8146 - val_loss: 0.3682 - val_binary_accuracy: 0.8492 - 88ms/epoch - 7ms/step\n",
      "Epoch 24/100\n",
      "12/12 - 0s - loss: 0.4411 - binary_accuracy: 0.8174 - val_loss: 0.3652 - val_binary_accuracy: 0.8492 - 85ms/epoch - 7ms/step\n",
      "Epoch 25/100\n",
      "12/12 - 0s - loss: 0.4437 - binary_accuracy: 0.8118 - val_loss: 0.3626 - val_binary_accuracy: 0.8492 - 81ms/epoch - 7ms/step\n",
      "Epoch 26/100\n",
      "12/12 - 0s - loss: 0.4367 - binary_accuracy: 0.8146 - val_loss: 0.3599 - val_binary_accuracy: 0.8492 - 79ms/epoch - 7ms/step\n",
      "Epoch 27/100\n",
      "12/12 - 0s - loss: 0.4361 - binary_accuracy: 0.8301 - val_loss: 0.3579 - val_binary_accuracy: 0.8603 - 84ms/epoch - 7ms/step\n",
      "Epoch 28/100\n",
      "12/12 - 0s - loss: 0.4248 - binary_accuracy: 0.8244 - val_loss: 0.3556 - val_binary_accuracy: 0.8603 - 81ms/epoch - 7ms/step\n",
      "Epoch 29/100\n",
      "12/12 - 0s - loss: 0.4349 - binary_accuracy: 0.8258 - val_loss: 0.3520 - val_binary_accuracy: 0.8547 - 83ms/epoch - 7ms/step\n",
      "Epoch 30/100\n",
      "12/12 - 0s - loss: 0.4213 - binary_accuracy: 0.8371 - val_loss: 0.3491 - val_binary_accuracy: 0.8547 - 83ms/epoch - 7ms/step\n",
      "Epoch 31/100\n",
      "12/12 - 0s - loss: 0.4265 - binary_accuracy: 0.8216 - val_loss: 0.3467 - val_binary_accuracy: 0.8547 - 81ms/epoch - 7ms/step\n",
      "Epoch 32/100\n",
      "12/12 - 0s - loss: 0.4174 - binary_accuracy: 0.8258 - val_loss: 0.3431 - val_binary_accuracy: 0.8547 - 92ms/epoch - 8ms/step\n",
      "Epoch 33/100\n",
      "12/12 - 0s - loss: 0.4264 - binary_accuracy: 0.8258 - val_loss: 0.3410 - val_binary_accuracy: 0.8547 - 82ms/epoch - 7ms/step\n",
      "Epoch 34/100\n",
      "12/12 - 0s - loss: 0.4217 - binary_accuracy: 0.8315 - val_loss: 0.3404 - val_binary_accuracy: 0.8547 - 81ms/epoch - 7ms/step\n",
      "Epoch 35/100\n",
      "12/12 - 0s - loss: 0.4253 - binary_accuracy: 0.8202 - val_loss: 0.3391 - val_binary_accuracy: 0.8547 - 82ms/epoch - 7ms/step\n",
      "Epoch 36/100\n",
      "12/12 - 0s - loss: 0.4220 - binary_accuracy: 0.8315 - val_loss: 0.3398 - val_binary_accuracy: 0.8603 - 70ms/epoch - 6ms/step\n",
      "Epoch 37/100\n",
      "12/12 - 0s - loss: 0.4185 - binary_accuracy: 0.8301 - val_loss: 0.3389 - val_binary_accuracy: 0.8603 - 79ms/epoch - 7ms/step\n",
      "Epoch 38/100\n",
      "12/12 - 0s - loss: 0.4111 - binary_accuracy: 0.8287 - val_loss: 0.3378 - val_binary_accuracy: 0.8603 - 79ms/epoch - 7ms/step\n",
      "Epoch 39/100\n",
      "12/12 - 0s - loss: 0.4246 - binary_accuracy: 0.8230 - val_loss: 0.3359 - val_binary_accuracy: 0.8547 - 81ms/epoch - 7ms/step\n",
      "Epoch 40/100\n",
      "12/12 - 0s - loss: 0.4171 - binary_accuracy: 0.8343 - val_loss: 0.3348 - val_binary_accuracy: 0.8547 - 87ms/epoch - 7ms/step\n",
      "Epoch 41/100\n",
      "12/12 - 0s - loss: 0.4182 - binary_accuracy: 0.8258 - val_loss: 0.3325 - val_binary_accuracy: 0.8547 - 100ms/epoch - 8ms/step\n",
      "Epoch 42/100\n",
      "12/12 - 0s - loss: 0.4124 - binary_accuracy: 0.8315 - val_loss: 0.3316 - val_binary_accuracy: 0.8547 - 96ms/epoch - 8ms/step\n",
      "Epoch 43/100\n",
      "12/12 - 0s - loss: 0.4135 - binary_accuracy: 0.8385 - val_loss: 0.3292 - val_binary_accuracy: 0.8547 - 91ms/epoch - 8ms/step\n",
      "Epoch 44/100\n",
      "12/12 - 0s - loss: 0.4013 - binary_accuracy: 0.8272 - val_loss: 0.3302 - val_binary_accuracy: 0.8547 - 71ms/epoch - 6ms/step\n",
      "Epoch 45/100\n",
      "12/12 - 0s - loss: 0.4083 - binary_accuracy: 0.8329 - val_loss: 0.3288 - val_binary_accuracy: 0.8547 - 95ms/epoch - 8ms/step\n",
      "Epoch 46/100\n",
      "12/12 - 0s - loss: 0.4143 - binary_accuracy: 0.8244 - val_loss: 0.3303 - val_binary_accuracy: 0.8603 - 68ms/epoch - 6ms/step\n",
      "Epoch 47/100\n",
      "12/12 - 0s - loss: 0.4042 - binary_accuracy: 0.8315 - val_loss: 0.3281 - val_binary_accuracy: 0.8603 - 80ms/epoch - 7ms/step\n",
      "Epoch 48/100\n",
      "12/12 - 0s - loss: 0.4069 - binary_accuracy: 0.8357 - val_loss: 0.3286 - val_binary_accuracy: 0.8603 - 66ms/epoch - 6ms/step\n",
      "Epoch 49/100\n",
      "12/12 - 0s - loss: 0.4015 - binary_accuracy: 0.8441 - val_loss: 0.3258 - val_binary_accuracy: 0.8547 - 80ms/epoch - 7ms/step\n",
      "Epoch 50/100\n",
      "12/12 - 0s - loss: 0.3967 - binary_accuracy: 0.8497 - val_loss: 0.3258 - val_binary_accuracy: 0.8547 - 69ms/epoch - 6ms/step\n",
      "Epoch 51/100\n",
      "12/12 - 0s - loss: 0.3943 - binary_accuracy: 0.8427 - val_loss: 0.3250 - val_binary_accuracy: 0.8547 - 89ms/epoch - 7ms/step\n",
      "Epoch 52/100\n",
      "12/12 - 0s - loss: 0.4009 - binary_accuracy: 0.8287 - val_loss: 0.3242 - val_binary_accuracy: 0.8603 - 81ms/epoch - 7ms/step\n",
      "Epoch 53/100\n",
      "12/12 - 0s - loss: 0.3954 - binary_accuracy: 0.8343 - val_loss: 0.3218 - val_binary_accuracy: 0.8603 - 80ms/epoch - 7ms/step\n",
      "Epoch 54/100\n",
      "12/12 - 0s - loss: 0.3990 - binary_accuracy: 0.8315 - val_loss: 0.3209 - val_binary_accuracy: 0.8547 - 82ms/epoch - 7ms/step\n",
      "Epoch 55/100\n",
      "12/12 - 0s - loss: 0.3927 - binary_accuracy: 0.8413 - val_loss: 0.3193 - val_binary_accuracy: 0.8659 - 82ms/epoch - 7ms/step\n",
      "Epoch 56/100\n",
      "12/12 - 0s - loss: 0.4233 - binary_accuracy: 0.8357 - val_loss: 0.3216 - val_binary_accuracy: 0.8659 - 70ms/epoch - 6ms/step\n",
      "Epoch 57/100\n",
      "12/12 - 0s - loss: 0.4017 - binary_accuracy: 0.8413 - val_loss: 0.3195 - val_binary_accuracy: 0.8659 - 69ms/epoch - 6ms/step\n",
      "Epoch 58/100\n",
      "12/12 - 0s - loss: 0.4081 - binary_accuracy: 0.8329 - val_loss: 0.3190 - val_binary_accuracy: 0.8715 - 93ms/epoch - 8ms/step\n",
      "Epoch 59/100\n",
      "12/12 - 0s - loss: 0.4086 - binary_accuracy: 0.8399 - val_loss: 0.3184 - val_binary_accuracy: 0.8547 - 89ms/epoch - 7ms/step\n",
      "Epoch 60/100\n",
      "12/12 - 0s - loss: 0.3903 - binary_accuracy: 0.8385 - val_loss: 0.3199 - val_binary_accuracy: 0.8603 - 72ms/epoch - 6ms/step\n",
      "Epoch 61/100\n",
      "12/12 - 0s - loss: 0.3931 - binary_accuracy: 0.8427 - val_loss: 0.3202 - val_binary_accuracy: 0.8715 - 81ms/epoch - 7ms/step\n",
      "Epoch 62/100\n",
      "12/12 - 0s - loss: 0.3898 - binary_accuracy: 0.8427 - val_loss: 0.3190 - val_binary_accuracy: 0.8715 - 66ms/epoch - 5ms/step\n",
      "Epoch 63/100\n",
      "12/12 - 0s - loss: 0.4051 - binary_accuracy: 0.8441 - val_loss: 0.3185 - val_binary_accuracy: 0.8659 - 67ms/epoch - 6ms/step\n",
      "Epoch 64/100\n",
      "12/12 - 0s - loss: 0.4060 - binary_accuracy: 0.8441 - val_loss: 0.3190 - val_binary_accuracy: 0.8715 - 66ms/epoch - 6ms/step\n",
      "Epoch 65/100\n",
      "12/12 - 0s - loss: 0.3950 - binary_accuracy: 0.8399 - val_loss: 0.3162 - val_binary_accuracy: 0.8715 - 87ms/epoch - 7ms/step\n",
      "Epoch 66/100\n",
      "12/12 - 0s - loss: 0.3948 - binary_accuracy: 0.8427 - val_loss: 0.3124 - val_binary_accuracy: 0.8715 - 84ms/epoch - 7ms/step\n",
      "Epoch 67/100\n",
      "12/12 - 0s - loss: 0.4032 - binary_accuracy: 0.8272 - val_loss: 0.3108 - val_binary_accuracy: 0.8715 - 81ms/epoch - 7ms/step\n",
      "Epoch 68/100\n",
      "12/12 - 0s - loss: 0.3975 - binary_accuracy: 0.8483 - val_loss: 0.3098 - val_binary_accuracy: 0.8715 - 85ms/epoch - 7ms/step\n",
      "Epoch 69/100\n",
      "12/12 - 0s - loss: 0.3969 - binary_accuracy: 0.8399 - val_loss: 0.3098 - val_binary_accuracy: 0.8659 - 83ms/epoch - 7ms/step\n",
      "Epoch 70/100\n",
      "12/12 - 0s - loss: 0.3896 - binary_accuracy: 0.8441 - val_loss: 0.3088 - val_binary_accuracy: 0.8547 - 93ms/epoch - 8ms/step\n",
      "Epoch 71/100\n",
      "12/12 - 0s - loss: 0.3954 - binary_accuracy: 0.8427 - val_loss: 0.3110 - val_binary_accuracy: 0.8603 - 68ms/epoch - 6ms/step\n",
      "Epoch 72/100\n",
      "12/12 - 0s - loss: 0.3896 - binary_accuracy: 0.8497 - val_loss: 0.3136 - val_binary_accuracy: 0.8659 - 68ms/epoch - 6ms/step\n",
      "Epoch 73/100\n",
      "12/12 - 0s - loss: 0.3860 - binary_accuracy: 0.8469 - val_loss: 0.3118 - val_binary_accuracy: 0.8603 - 73ms/epoch - 6ms/step\n",
      "Epoch 74/100\n",
      "12/12 - 0s - loss: 0.3877 - binary_accuracy: 0.8427 - val_loss: 0.3102 - val_binary_accuracy: 0.8603 - 73ms/epoch - 6ms/step\n",
      "Epoch 75/100\n",
      "12/12 - 0s - loss: 0.3913 - binary_accuracy: 0.8413 - val_loss: 0.3089 - val_binary_accuracy: 0.8547 - 68ms/epoch - 6ms/step\n",
      "Epoch 76/100\n",
      "12/12 - 0s - loss: 0.3974 - binary_accuracy: 0.8427 - val_loss: 0.3090 - val_binary_accuracy: 0.8547 - 74ms/epoch - 6ms/step\n",
      "Epoch 77/100\n",
      "12/12 - 0s - loss: 0.3895 - binary_accuracy: 0.8624 - val_loss: 0.3108 - val_binary_accuracy: 0.8659 - 68ms/epoch - 6ms/step\n",
      "Epoch 78/100\n",
      "12/12 - 0s - loss: 0.3879 - binary_accuracy: 0.8511 - val_loss: 0.3101 - val_binary_accuracy: 0.8659 - 66ms/epoch - 6ms/step\n",
      "Epoch 79/100\n",
      "12/12 - 0s - loss: 0.3823 - binary_accuracy: 0.8525 - val_loss: 0.3073 - val_binary_accuracy: 0.8603 - 85ms/epoch - 7ms/step\n",
      "Epoch 80/100\n",
      "12/12 - 0s - loss: 0.3778 - binary_accuracy: 0.8525 - val_loss: 0.3083 - val_binary_accuracy: 0.8547 - 73ms/epoch - 6ms/step\n",
      "Epoch 81/100\n",
      "12/12 - 0s - loss: 0.3897 - binary_accuracy: 0.8469 - val_loss: 0.3096 - val_binary_accuracy: 0.8547 - 81ms/epoch - 7ms/step\n",
      "Epoch 82/100\n",
      "12/12 - 0s - loss: 0.3918 - binary_accuracy: 0.8455 - val_loss: 0.3088 - val_binary_accuracy: 0.8547 - 68ms/epoch - 6ms/step\n",
      "Epoch 83/100\n",
      "12/12 - 0s - loss: 0.3921 - binary_accuracy: 0.8539 - val_loss: 0.3100 - val_binary_accuracy: 0.8547 - 67ms/epoch - 6ms/step\n",
      "Epoch 84/100\n",
      "12/12 - 0s - loss: 0.3893 - binary_accuracy: 0.8413 - val_loss: 0.3088 - val_binary_accuracy: 0.8547 - 68ms/epoch - 6ms/step\n",
      "Epoch 85/100\n",
      "12/12 - 0s - loss: 0.3974 - binary_accuracy: 0.8469 - val_loss: 0.3098 - val_binary_accuracy: 0.8547 - 70ms/epoch - 6ms/step\n",
      "Epoch 86/100\n",
      "12/12 - 0s - loss: 0.3850 - binary_accuracy: 0.8441 - val_loss: 0.3093 - val_binary_accuracy: 0.8547 - 65ms/epoch - 5ms/step\n",
      "Epoch 87/100\n",
      "12/12 - 0s - loss: 0.3965 - binary_accuracy: 0.8483 - val_loss: 0.3090 - val_binary_accuracy: 0.8547 - 66ms/epoch - 6ms/step\n",
      "Epoch 88/100\n",
      "12/12 - 0s - loss: 0.3842 - binary_accuracy: 0.8469 - val_loss: 0.3111 - val_binary_accuracy: 0.8547 - 67ms/epoch - 6ms/step\n",
      "Epoch 89/100\n",
      "12/12 - 0s - loss: 0.3864 - binary_accuracy: 0.8413 - val_loss: 0.3091 - val_binary_accuracy: 0.8603 - 66ms/epoch - 6ms/step\n",
      "Epoch 90/100\n",
      "12/12 - 0s - loss: 0.4038 - binary_accuracy: 0.8357 - val_loss: 0.3087 - val_binary_accuracy: 0.8603 - 65ms/epoch - 5ms/step\n",
      "Epoch 91/100\n",
      "12/12 - 0s - loss: 0.3919 - binary_accuracy: 0.8483 - val_loss: 0.3064 - val_binary_accuracy: 0.8603 - 78ms/epoch - 7ms/step\n",
      "Epoch 92/100\n",
      "12/12 - 0s - loss: 0.3811 - binary_accuracy: 0.8567 - val_loss: 0.3061 - val_binary_accuracy: 0.8603 - 78ms/epoch - 7ms/step\n",
      "Epoch 93/100\n",
      "12/12 - 0s - loss: 0.3817 - binary_accuracy: 0.8483 - val_loss: 0.3053 - val_binary_accuracy: 0.8603 - 78ms/epoch - 7ms/step\n",
      "Epoch 94/100\n",
      "12/12 - 0s - loss: 0.3833 - binary_accuracy: 0.8511 - val_loss: 0.3041 - val_binary_accuracy: 0.8603 - 86ms/epoch - 7ms/step\n",
      "Epoch 95/100\n",
      "12/12 - 0s - loss: 0.3868 - binary_accuracy: 0.8525 - val_loss: 0.3036 - val_binary_accuracy: 0.8827 - 81ms/epoch - 7ms/step\n",
      "Epoch 96/100\n",
      "12/12 - 0s - loss: 0.3753 - binary_accuracy: 0.8539 - val_loss: 0.3041 - val_binary_accuracy: 0.8827 - 68ms/epoch - 6ms/step\n",
      "Epoch 97/100\n",
      "12/12 - 0s - loss: 0.3835 - binary_accuracy: 0.8399 - val_loss: 0.3041 - val_binary_accuracy: 0.8547 - 67ms/epoch - 6ms/step\n",
      "Epoch 98/100\n",
      "12/12 - 0s - loss: 0.3867 - binary_accuracy: 0.8399 - val_loss: 0.3053 - val_binary_accuracy: 0.8547 - 75ms/epoch - 6ms/step\n",
      "Epoch 99/100\n",
      "12/12 - 0s - loss: 0.3911 - binary_accuracy: 0.8357 - val_loss: 0.3082 - val_binary_accuracy: 0.8603 - 70ms/epoch - 6ms/step\n",
      "Epoch 100/100\n",
      "12/12 - 0s - loss: 0.3814 - binary_accuracy: 0.8483 - val_loss: 0.3062 - val_binary_accuracy: 0.8603 - 70ms/epoch - 6ms/step\n"
     ]
    },
    {
     "data": {
      "text/plain": [
       "<keras.callbacks.History at 0x1e4adf72d40>"
      ]
     },
     "execution_count": 39,
     "metadata": {},
     "output_type": "execute_result"
    }
   ],
   "source": [
    "BATCH_SIZE = 64\n",
    "EPOCHS = 100\n",
    "CP_dir = SetCheckpoint(VERSION)\n",
    "TB_dir = SetLog(VERSION)\n",
    "callbacks = DefCallbacks(VERSION, CP = CP_dir, TB = TB_dir)\n",
    "model.fit(dataset['x_train'], dataset['y_train'], callbacks = callbacks, \n",
    "          validation_split = 0.2, batch_size=BATCH_SIZE, epochs = EPOCHS, verbose = 2)"
   ]
  },
  {
   "cell_type": "code",
   "execution_count": 40,
   "metadata": {},
   "outputs": [
    {
     "name": "stdout",
     "output_type": "stream",
     "text": [
      "14/14 [==============================] - 0s 1ms/step\n",
      "0      0.094324\n",
      "1      0.653093\n",
      "2      0.136294\n",
      "3      0.114805\n",
      "4      0.896592\n",
      "         ...   \n",
      "413    0.092267\n",
      "414    0.872662\n",
      "415    0.094553\n",
      "416    0.103984\n",
      "417    0.793211\n",
      "Length: 418, dtype: float32\n",
      "0.8875598086124402\n"
     ]
    }
   ],
   "source": [
    "model.load_weights(CP_dir)\n",
    "pred = model.predict(dataset['x_test'])\n",
    "pred = tf.reshape(pred, (-1))\n",
    "data_check =  pd.read_csv(DATA_DIR + \"gender_submission.csv\")\n",
    "pred_series = pd.Series(pred)\n",
    "print(pred_series)\n",
    "# Creating new column of predictions in data_check dataframe\n",
    "data_check['check'] = pred_series\n",
    "series = []\n",
    "for val in data_check.check:\n",
    "    if val >= 0.5:\n",
    "        series.append(1)\n",
    "    else:\n",
    "        series.append(0)\n",
    "data_check['final'] = series\n",
    "match = 0\n",
    "nomatch = 0\n",
    "for val in data_check.values:\n",
    "    if val[1] == val[3]:\n",
    "        match += 1\n",
    "    else:\n",
    "        nomatch += 1\n",
    "\n",
    "print(match/data_check.shape[-2])"
   ]
  },
  {
   "cell_type": "code",
   "execution_count": 41,
   "metadata": {},
   "outputs": [],
   "source": [
    "temp = pd.DataFrame(pd.read_csv(DATA_DIR + \"test.csv\")['PassengerId'])\n",
    "temp['Survived'] = data_check['final']\n",
    "temp.to_csv(f\"submission/submission_{VERSION}.csv\", index = False)"
   ]
  },
  {
   "cell_type": "code",
   "execution_count": 42,
   "metadata": {},
   "outputs": [],
   "source": [
    "# Family size from Family Name\n",
    "# apply scaler on Age, Fare?\n",
    "# Title (Mr. Miss. ) - Married?\n",
    "# Social class from Ticket class and Fare"
   ]
  }
 ],
 "metadata": {
  "kernelspec": {
   "display_name": "Python 3.10.8 64-bit",
   "language": "python",
   "name": "python3"
  },
  "language_info": {
   "codemirror_mode": {
    "name": "ipython",
    "version": 3
   },
   "file_extension": ".py",
   "mimetype": "text/x-python",
   "name": "python",
   "nbconvert_exporter": "python",
   "pygments_lexer": "ipython3",
   "version": "3.10.8"
  },
  "orig_nbformat": 4,
  "vscode": {
   "interpreter": {
    "hash": "b776e8a1ce9412d9556c02947d53a9e8ae7bbb4e7b1b579f7ffbe853627ce066"
   }
  }
 },
 "nbformat": 4,
 "nbformat_minor": 2
}
