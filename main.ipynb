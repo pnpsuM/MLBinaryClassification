{
 "cells": [
  {
   "cell_type": "code",
   "execution_count": 1,
   "metadata": {},
   "outputs": [],
   "source": [
    "REFERENCE = 'Reference'\n",
    "PROJECT = 'Project'\n",
    "\n",
    "%load_ext tensorboard\n",
    "\n",
    "from model.model import *\n",
    "from process_func import *\n",
    "import os\n",
    "DATA_DIR = f'datasets/'\n",
    "map = {'Mlle': 'Miss', 'Ms': 'Miss', 'Mme': 'Mrs', 'Major': 'Military', \n",
    "       'Col': 'Military', 'Dr' : 'Other', 'Rev' : 'Other', 'Capt': 'Military', \n",
    "       'Jonkheer': 'Royal', 'Sir': 'Royal', 'Lady': 'Royal', \n",
    "       'Don': 'Royal', 'Countess': 'Royal', 'Dona': 'Royal'}\n",
    "titles =['Miss', 'Mr', 'Mrs', 'Royal', 'Other', 'Master', 'Military']\n",
    "\n",
    "# Run for validation"
   ]
  },
  {
   "cell_type": "code",
   "execution_count": 2,
   "metadata": {},
   "outputs": [
    {
     "name": "stdout",
     "output_type": "stream",
     "text": [
      "Initializing...\n",
      "Data Loaded.\n",
      "Data Preprocessing...\n",
      "Done Preprocessing.\n",
      "Returned Data Dictionary\n"
     ]
    }
   ],
   "source": [
    "data = Titanic(DATA_DIR, show_head = False)\n",
    "prepath = 'preprocessed'\n",
    "try:\n",
    "    if not os.path.exists(prepath):\n",
    "        os.makedirs(prepath)\n",
    "except OSError:\n",
    "    print('Error Creating Directory...')\n",
    "data.Preprocess(map, titles, PROJECT)\n",
    "data._data.to_csv(prepath + f\"/encoded_{PROJECT}.csv\", index = False)\n",
    "dataset = data.GetXandY()\n",
    "\n",
    "# Run for validation"
   ]
  },
  {
   "cell_type": "code",
   "execution_count": 3,
   "metadata": {},
   "outputs": [],
   "source": [
    "# ref_model = ReferenceModel(dataset['x_train'].shape)\n",
    "# CP_dir_ref = SetCheckpoint(REFERENCE)\n",
    "# TB_dir_ref = SetLog(REFERENCE)"
   ]
  },
  {
   "cell_type": "code",
   "execution_count": 4,
   "metadata": {},
   "outputs": [
    {
     "name": "stdout",
     "output_type": "stream",
     "text": [
      "Model: \"ProjectModel\"\n",
      "_________________________________________________________________\n",
      " Layer (type)                Output Shape              Param #   \n",
      "=================================================================\n",
      " Input (InputLayer)          [(None, 19)]              0         \n",
      "                                                                 \n",
      " Dense0 (Dense)              (None, 16)                320       \n",
      "                                                                 \n",
      " dropout (Dropout)           (None, 16)                0         \n",
      "                                                                 \n",
      " batch_normalization (BatchN  (None, 16)               64        \n",
      " ormalization)                                                   \n",
      "                                                                 \n",
      " Dense1 (Dense)              (None, 16)                272       \n",
      "                                                                 \n",
      " dropout_1 (Dropout)         (None, 16)                0         \n",
      "                                                                 \n",
      " batch_normalization_1 (Batc  (None, 16)               64        \n",
      " hNormalization)                                                 \n",
      "                                                                 \n",
      " Dense2 (Dense)              (None, 16)                272       \n",
      "                                                                 \n",
      " dropout_2 (Dropout)         (None, 16)                0         \n",
      "                                                                 \n",
      " batch_normalization_2 (Batc  (None, 16)               64        \n",
      " hNormalization)                                                 \n",
      "                                                                 \n",
      " Output (Dense)              (None, 1)                 17        \n",
      "                                                                 \n",
      "=================================================================\n",
      "Total params: 1,073\n",
      "Trainable params: 977\n",
      "Non-trainable params: 96\n",
      "_________________________________________________________________\n"
     ]
    }
   ],
   "source": [
    "proj_model = ProjectModel(dataset['x_train'].shape)\n",
    "CP_dir_proj = SetCheckpoint(PROJECT)\n",
    "TB_dir_proj = SetLog(PROJECT)\n",
    "# Run for validation"
   ]
  },
  {
   "cell_type": "code",
   "execution_count": 5,
   "metadata": {},
   "outputs": [],
   "source": [
    "# BATCH_SIZE = 128\n",
    "# EPOCHS = 100\n",
    "# callbacks_ref = DefCallbacks(REFERENCE, CP = CP_dir_ref, TB = TB_dir_ref)\n",
    "# history_ref = ref_model.fit(dataset['x_train'], dataset['y_train'], callbacks = callbacks_ref, \n",
    "#           validation_split = 0.2, batch_size=BATCH_SIZE, epochs = EPOCHS, verbose = 2)"
   ]
  },
  {
   "cell_type": "code",
   "execution_count": 6,
   "metadata": {},
   "outputs": [],
   "source": [
    "BATCH_SIZE = 128\n",
    "EPOCHS = 600\n",
    "callbacks_proj = DefCallbacks(PROJECT, CP = CP_dir_proj, TB = TB_dir_proj)\n",
    "history_proj = proj_model.fit(dataset['x_train'], dataset['y_train'], callbacks = callbacks_proj, \n",
    "          validation_split = 0.2, batch_size=BATCH_SIZE, epochs = EPOCHS, verbose = 0)"
   ]
  },
  {
   "cell_type": "code",
   "execution_count": null,
   "metadata": {},
   "outputs": [
    {
     "name": "stdout",
     "output_type": "stream",
     "text": [
      "3/3 [==============================] - 0s 3ms/step\n",
      "0    0.060042\n",
      "1    0.158263\n",
      "2    0.080631\n",
      "3    0.083024\n",
      "4    0.928435\n",
      "5    0.065761\n",
      "6    0.640785\n",
      "7    0.134921\n",
      "8    0.255343\n",
      "9    0.083024\n",
      "dtype: float32\n",
      "ProjectModel_Accuracy :  85.89 %\n"
     ]
    }
   ],
   "source": [
    "# submission = PerformanceCheck(ref_model, CP_dir_ref, dataset['x_test'], DATA_DIR)\n",
    "# submission.to_csv(f\"submission/submission_{REFERENCE}.csv\", index = False)\n",
    "submission = PerformanceCheck(proj_model, CP_dir_proj, dataset['x_test'], DATA_DIR)\n",
    "submission.to_csv(f\"submission/submission_{PROJECT}.csv\", index = False)"
   ]
  }
 ],
 "metadata": {
  "kernelspec": {
   "display_name": "Python 3.10.8 64-bit",
   "language": "python",
   "name": "python3"
  },
  "language_info": {
   "codemirror_mode": {
    "name": "ipython",
    "version": 3
   },
   "file_extension": ".py",
   "mimetype": "text/x-python",
   "name": "python",
   "nbconvert_exporter": "python",
   "pygments_lexer": "ipython3",
   "version": "3.10.8"
  },
  "orig_nbformat": 4,
  "vscode": {
   "interpreter": {
    "hash": "b776e8a1ce9412d9556c02947d53a9e8ae7bbb4e7b1b579f7ffbe853627ce066"
   }
  }
 },
 "nbformat": 4,
 "nbformat_minor": 2
}
